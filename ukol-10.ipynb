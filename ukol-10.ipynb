{
 "cells": [
  {
   "attachments": {},
   "cell_type": "markdown",
   "metadata": {},
   "source": [
    "# ZADÁNÍ 1\n",
    "\n",
    "Uvažuj, že zpracováváš analýzu pro softwarovou firmu. Firma má kanceláře v Praze, Plzni a Liberci. \n",
    "Seznam zaměstnanců pro jednotlivé kanceláře najdeš v souborech zam_praha.csv, zam_plzeň.csv a zam_liberec.csv.\n",
    "\n",
    "- Načti data o zaměstnancích z CSV souborů do tabulek (DataFrame). Ke každé tabulce přidej nový sloupec mesto, které bude obsahovat informaci o tom, ve kterém městě zaměstnanec pracuje.\n",
    "\n",
    "- Vytvoř novou tabulku zamestnanci a ulož do ní informace o všech zaměstnancích (operace concat).\n",
    "\n",
    "- Ze souboru platy_2021_02.csv načti platy zaměstnanců za únor 2021. Propoj tabulku (operace join) s platy a tabulku se zaměstnanci pomocí sloupce cislo_zamestnance.\n",
    "\n",
    "- Porovnej rozměry tabulek před spojením a po spojení. Pokud nemá některý zaměstnanec plat za únor, znamená to, že v naší firmě již nepracuje.\n",
    "\n",
    "- Spočti průměrný plat zaměstnanců v jednotlivých kancelářích."
   ]
  },
  {
   "cell_type": "code",
   "execution_count": null,
   "metadata": {},
   "outputs": [],
   "source": [
    "import pandas\n",
    "import matplotlib.pyplot"
   ]
  },
  {
   "cell_type": "code",
   "execution_count": null,
   "metadata": {},
   "outputs": [],
   "source": [
    "prague = pandas.read_csv(\"zam_praha.csv\")\n",
    "pilsen = pandas.read_csv(\"zam_plzeň.csv\")\n",
    "liberec = pandas.read_csv(\"zam_liberec.csv\")\n",
    "prague[\"city\"] = \"prague\"\n",
    "pilsen[\"city\"] = \"pilsen\"\n",
    "liberec[\"city\"] = \"liberec\""
   ]
  },
  {
   "cell_type": "code",
   "execution_count": null,
   "metadata": {},
   "outputs": [],
   "source": [
    "employees = pandas.concat([prague, pilsen, liberec], ignore_index=True)\n",
    "employees"
   ]
  },
  {
   "cell_type": "code",
   "execution_count": null,
   "metadata": {},
   "outputs": [],
   "source": [
    "february = pandas.read_csv(\"platy_2021_02.csv\")\n",
    "staff_salaries = pandas.merge(february, employees, on=[\"cislo_zamestnance\"]) # V tabulce jsou pouze zaměstnanci, kteří ve firmě pracují\n",
    "staff_salaries"
   ]
  },
  {
   "cell_type": "code",
   "execution_count": null,
   "metadata": {},
   "outputs": [],
   "source": [
    "employees.shape\n",
    "# february.shape\n",
    "# staff_salaries.shape"
   ]
  },
  {
   "cell_type": "code",
   "execution_count": null,
   "metadata": {},
   "outputs": [],
   "source": [
    "# Pokud chceme vidět, kteří zaměstnancijiž ve firmě nepracují, musíme použít následující kód\n",
    "staff = pandas.merge(february, employees, on=[\"cislo_zamestnance\"], how=\"right\")\n",
    "staff"
   ]
  },
  {
   "cell_type": "code",
   "execution_count": null,
   "metadata": {},
   "outputs": [],
   "source": [
    "staff_salaries.groupby(\"city\")[\"plat\"].mean()"
   ]
  },
  {
   "attachments": {},
   "cell_type": "markdown",
   "metadata": {},
   "source": [
    "# ZADÁNÍ 2\n",
    "\n",
    "Pokračuj ve své práci pro softwarovou firmu. Ze souboru vykazy.csv načti informace o výkazech na projekty pro jednoho vybraného zákazníka.\n",
    "\n",
    "- Načti data ze souboru a ulož je do tabulky.\n",
    "- Proveď agregaci a zjisti celkový počet vykázaných hodin za jednotlivé projekty."
   ]
  },
  {
   "cell_type": "code",
   "execution_count": null,
   "metadata": {},
   "outputs": [],
   "source": [
    "reports = pandas.read_csv(\"vykazy.csv\")\n",
    "reports"
   ]
  },
  {
   "cell_type": "code",
   "execution_count": null,
   "metadata": {},
   "outputs": [],
   "source": [
    "statements = reports.groupby(\"project\")[\"hours\"].sum()\n",
    "statements\n",
    "# statements.sort_values(ascending=False).plot(kind='barh', color='grey', grid=True, title=\"Počet vyk. hodin za projekty\", sort_columns=False)"
   ]
  },
  {
   "attachments": {},
   "cell_type": "markdown",
   "metadata": {},
   "source": [
    "# BONUS 1\n",
    "\n",
    "- Ulož do proměnné počet zaměstnanců, kteří v naší firmě již nepracují.\n",
    "- V rámci úspory se IT oddělení rozhodlo prověřit licence přidělené zaměstnancům, kteří ve firmě již nepracují. Vytvoř samostatnou tabulku, která obsahuje jména zaměstnanců, kteří ve firmě již nepracují. Tabulku ulož do souboru CSV."
   ]
  },
  {
   "cell_type": "code",
   "execution_count": null,
   "metadata": {},
   "outputs": [],
   "source": [
    "unemployed_workers = staff_salaries[staff_salaries[\"plat\"].isnull()]\n",
    "unemployed_workers.shape"
   ]
  },
  {
   "cell_type": "code",
   "execution_count": null,
   "metadata": {},
   "outputs": [],
   "source": [
    "unemployed_workers.to_csv(\"unemployed.csv\", index=False)"
   ]
  },
  {
   "attachments": {},
   "cell_type": "markdown",
   "metadata": {},
   "source": [
    "# BONUS 2\n",
    "\n",
    "Propoj tabulku s výkazy s tabulkou se zaměstnanci, kterou jsi vytvořil(a) v předchozím cvičení.\n",
    "\n",
    "Následně proveď statistiku vykázaných hodin za jednotlivé kanceláře, tj. spočítej celkový počet hodin vykázaný zaměstnanci jednotlivých kanceláří na projekty daného zákazníka."
   ]
  },
  {
   "cell_type": "code",
   "execution_count": null,
   "metadata": {},
   "outputs": [],
   "source": [
    "statements_employees = pandas.merge(employees, reports, left_on=\"cislo_zamestnance\", right_on=\"emloyee_id\")\n",
    "statements_employees"
   ]
  },
  {
   "cell_type": "code",
   "execution_count": null,
   "metadata": {},
   "outputs": [],
   "source": [
    "office_hours = statements_employees.groupby([\"project\", \"city\"])[\"hours\"].sum()\n",
    "# office_hours\n",
    "office_hours.sort_values(ascending=False).plot(kind=\"barh\", color=\"pink\", grid=True)"
   ]
  }
 ],
 "metadata": {
  "kernelspec": {
   "display_name": "Python 3",
   "language": "python",
   "name": "python3"
  },
  "language_info": {
   "codemirror_mode": {
    "name": "ipython",
    "version": 3
   },
   "file_extension": ".py",
   "mimetype": "text/x-python",
   "name": "python",
   "nbconvert_exporter": "python",
   "pygments_lexer": "ipython3",
   "version": "3.11.1"
  },
  "orig_nbformat": 4
 },
 "nbformat": 4,
 "nbformat_minor": 2
}
