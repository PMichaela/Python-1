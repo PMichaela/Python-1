{
 "cells": [
  {
   "attachments": {},
   "cell_type": "markdown",
   "metadata": {},
   "source": [
    "# Teplota ve městech\n",
    "\n",
    "Stáhni si soubor temperature.csv, který obsahuje informace o průměrné teplotě v různých městech v listopadu 2017.\n",
    "\n",
    "Vypiš si prvních několik řádků, ať si prohlédneš strukturu tabulky."
   ]
  },
  {
   "cell_type": "code",
   "execution_count": null,
   "metadata": {},
   "outputs": [],
   "source": [
    "import pandas\n",
    "import pytemperature"
   ]
  },
  {
   "cell_type": "code",
   "execution_count": null,
   "metadata": {},
   "outputs": [],
   "source": [
    "temperatures = pandas.read_csv(\"temperature.csv\")\n",
    "temperatures"
   ]
  },
  {
   "attachments": {},
   "cell_type": "markdown",
   "metadata": {},
   "source": [
    "## Dále napiš následující dotazy:\n",
    "\n",
    "Dotaz na měření, která byla provedena v Praze. Je na datech něco zvláštního? Napadá tě, čím to může být? Zde je nápověda.\n",
    "\n",
    "Dotaz na měření, ve kterých je teplota (sloupec AvgTemperature) vyšší než 80 stupňů.\n",
    "\n",
    "Dotaz na měření, ve kterých je teplota vyšší než 60 stupňů a současně bylo měření provedeno v regionu (sloupec Region) Evropa (Europe).\n",
    "\n",
    "Dotaz na extrémní hodnoty, tj. měření, ve kterých je teplota vyšší než 80 stupňů nebo menší než -20 stupňů."
   ]
  },
  {
   "cell_type": "code",
   "execution_count": null,
   "metadata": {},
   "outputs": [],
   "source": [
    "temperatures[temperatures[\"City\"] == \"Prague\"]\n",
    "# Teploty jsou zadané ve Fahrenheitech."
   ]
  },
  {
   "cell_type": "code",
   "execution_count": null,
   "metadata": {},
   "outputs": [],
   "source": [
    "temperatures[temperatures[\"AvgTemperature\"] > 80]"
   ]
  },
  {
   "cell_type": "code",
   "execution_count": null,
   "metadata": {},
   "outputs": [],
   "source": [
    "temperatures[(temperatures[\"AvgTemperature\"] > 60) & (temperatures[\"Region\"] == \"Europe\")]"
   ]
  },
  {
   "cell_type": "code",
   "execution_count": null,
   "metadata": {},
   "outputs": [],
   "source": [
    "temperatures[(temperatures[\"AvgTemperature\"] > 80) | (temperatures[\"AvgTemperature\"] < -20)]"
   ]
  },
  {
   "attachments": {},
   "cell_type": "markdown",
   "metadata": {},
   "source": [
    "# BONUS\n",
    "\n",
    "Nainstaluj si modul pytemperature a zkus si vytvořit nový sloupec, který bude obsahovat průměrnou templotu ve stupních Celsia.\n",
    "\n",
    "Ve svém programu nejprve proveď import modulu pytemperature. Nový sloupec pak přidáš do tabulky tak, že nalevo od = vložíš tabulku a název nového sloupce do hranatých závorek. \n",
    "Napravo pak můžeš provádět výpočty pomocí již existujících sloupců. Můžeš např. použít funkci f2c z modulu pytemperature, která převede teplotu ze stupňů Fahrenheita na stupně Celsia.\n",
    "\n",
    "import pytemperature\n",
    "\n",
    "df[\"AvgTemperatureCelsia\"] = pytemperature.f2c(df[\"AvgTemperature\"])\n",
    "Nyní můžeš zpracovat následující příklady:\n",
    "\n",
    "Dotaz na měření, ve kterých je teplota (sloupec AvgTemperatureCelsia) vyšší než 30 stupňů Celsia.\n",
    "\n",
    "Dotaz na měření, ve kterých je teplota vyšší než 15 stupňů Celsia a současně bylo měření provedeno v regionu (sloupec Region) Evropa (Europe).\n",
    "\n",
    "Dotaz na extrémní hodnoty, tj. měření, ve kterých je teplota vyšší než 30 stupňů Celsia nebo menší než -10 stupňů. Jsou některé hodnoty podezřelé?"
   ]
  },
  {
   "cell_type": "code",
   "execution_count": null,
   "metadata": {},
   "outputs": [],
   "source": [
    "temperatures[\"AvgTemperatureCelsia\"] = pytemperature.f2c(temperatures[\"AvgTemperature\"])\n",
    "temperatures"
   ]
  },
  {
   "cell_type": "code",
   "execution_count": null,
   "metadata": {},
   "outputs": [],
   "source": [
    "temperatures[temperatures[\"AvgTemperatureCelsia\"] > 30]"
   ]
  },
  {
   "cell_type": "code",
   "execution_count": null,
   "metadata": {},
   "outputs": [],
   "source": [
    "temperatures[(temperatures[\"AvgTemperatureCelsia\"] > 15) & (temperatures[\"Region\"] == \"Europe\")]"
   ]
  },
  {
   "cell_type": "code",
   "execution_count": null,
   "metadata": {},
   "outputs": [],
   "source": [
    "temperatures[(temperatures[\"AvgTemperatureCelsia\"] > 30) | (temperatures[\"AvgTemperatureCelsia\"] < -10)]"
   ]
  },
  {
   "cell_type": "code",
   "execution_count": null,
   "metadata": {},
   "outputs": [],
   "source": [
    "temperatures[temperatures[\"AvgTemperatureCelsia\"] < -30]\n",
    "# Mínusové teploty jak ve stupních tak ve fahrenheitech jsou poněkud podezřelé... :) "
   ]
  },
  {
   "attachments": {},
   "cell_type": "markdown",
   "metadata": {},
   "source": [
    "# BONUS 2\n",
    "\n",
    "Pokračuj ve své práci s informacemi o průměrných teplotách. Pokud jsi zpracoval/a první bonus, můžeš pracovat s teplotami ve stupních Celsia.\n",
    "\n",
    "Napiš následující dotazy:\n",
    "\n",
    "Dotaz na řádky z 13. listopadu 2017 (sloupec Day musí mít hodnotu 13).\n",
    "\n",
    "Dotaz na řádky z 13. listopadu 2017 ze Spojených států amerických (sloupec Day musí mít hodnotu 13 a sloupec Country hodnotu US). Výsledek dotazu si ulož do nové tabulky a použij ji jako vstup pro následující dotaz.\n",
    "\n",
    "Pro data z předchozího dotazu napiš dotaz na řádky ve městech (sloupec City) Washington a Philadelphia."
   ]
  },
  {
   "cell_type": "code",
   "execution_count": null,
   "metadata": {},
   "outputs": [],
   "source": [
    "temperatures[temperatures[\"Day\"] == 13]"
   ]
  },
  {
   "cell_type": "code",
   "execution_count": null,
   "metadata": {},
   "outputs": [],
   "source": [
    "temperatures[(temperatures[\"Day\"] == 13) & (temperatures[\"Country\"] == \"US\")]"
   ]
  },
  {
   "cell_type": "code",
   "execution_count": null,
   "metadata": {},
   "outputs": [],
   "source": [
    "temperatures[(temperatures[\"Day\"] == 13) & (temperatures[\"City\"].isin([\"Washington\", \"Philadelphia\"]))]"
   ]
  }
 ],
 "metadata": {
  "kernelspec": {
   "display_name": "Python 3",
   "language": "python",
   "name": "python3"
  },
  "language_info": {
   "codemirror_mode": {
    "name": "ipython",
    "version": 3
   },
   "file_extension": ".py",
   "mimetype": "text/x-python",
   "name": "python",
   "nbconvert_exporter": "python",
   "pygments_lexer": "ipython3",
   "version": "3.11.1"
  },
  "orig_nbformat": 4
 },
 "nbformat": 4,
 "nbformat_minor": 2
}
